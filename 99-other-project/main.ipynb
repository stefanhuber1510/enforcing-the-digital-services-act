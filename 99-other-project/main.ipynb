{
 "cells": [
  {
   "attachments": {},
   "cell_type": "markdown",
   "metadata": {},
   "source": [
    "Thales asked me to generate explanations for a different project.<br>\n",
    "I'll execute this here"
   ]
  },
  {
   "cell_type": "code",
   "execution_count": 18,
   "metadata": {},
   "outputs": [],
   "source": [
    "# imports\n",
    "import pandas as pd\n",
    "import pickle as pkl\n",
    "import openai\n",
    "\n",
    "from gptClassifier2 import gptclassifier\n",
    "from gptClassifier2 import standard_message as message\n",
    "\n",
    "openai.api_key = \"\" # insert your api key"
   ]
  },
  {
   "cell_type": "code",
   "execution_count": 5,
   "metadata": {},
   "outputs": [],
   "source": [
    "df = pd.read_pickle(\"./ann_relabel_0.pkl\")\n",
    "f = open('./ann_relabel_0.json')\n",
    "df2 = json.load(f)\n",
    "f.close()\n",
    "\n",
    "# seems like the json file is basically the caption column reformatted to a dict"
   ]
  },
  {
   "cell_type": "code",
   "execution_count": 19,
   "metadata": {},
   "outputs": [
    {
     "name": "stdout",
     "output_type": "stream",
     "text": [
      "Counter at 1\n",
      "Counter at 3\n",
      "Counter at 5\n",
      "Counter at 7\n",
      "Counter at 9\n",
      "Counter at 11\n",
      "Counter at 13\n",
      "Counter at 15\n",
      "Counter at 17\n",
      "Counter at 19\n",
      "Counter at 21\n",
      "Counter at 23\n",
      "Counter at 25\n",
      "Counter at 27\n",
      "Counter at 29\n",
      "Counter at 31\n",
      "Counter at 33\n",
      "Counter at 35\n",
      "Counter at 37\n",
      "Counter at 39\n",
      "Counter at 41\n",
      "Counter at 43\n",
      "Counter at 45\n",
      "Counter at 47\n",
      "Counter at 49\n",
      "Counter at 51\n",
      "Counter at 53\n",
      "Counter at 55\n",
      "Counter at 57\n",
      "Counter at 59\n",
      "Counter at 61\n",
      "Counter at 63\n",
      "Counter at 65\n",
      "Counter at 67\n",
      "Counter at 69\n",
      "Counter at 71\n",
      "Counter at 73\n",
      "Counter at 75\n",
      "Counter at 77\n",
      "Counter at 79\n",
      "Counter at 81\n",
      "Counter at 83\n",
      "Counter at 85\n",
      "Counter at 87\n",
      "Counter at 89\n",
      "Counter at 91\n",
      "Counter at 93\n",
      "Counter at 95\n",
      "Counter at 97\n",
      "Counter at 99\n",
      "Counter at 101\n",
      "Counter at 103\n",
      "Counter at 105\n",
      "Counter at 107\n",
      "Counter at 109\n",
      "Counter at 111\n",
      "Counter at 113\n",
      "Counter at 115\n",
      "Counter at 117\n",
      "Counter at 119\n",
      "Counter at 121\n",
      "Counter at 123\n",
      "Counter at 125\n",
      "Counter at 127\n",
      "Counter at 129\n",
      "Counter at 131\n",
      "Counter at 133\n",
      "Counter at 135\n",
      "Counter at 137\n",
      "Counter at 139\n",
      "Counter at 141\n",
      "Counter at 143\n",
      "Counter at 145\n",
      "Counter at 147\n",
      "Counter at 149\n",
      "Counter at 151\n",
      "Counter at 153\n",
      "Counter at 155\n",
      "Counter at 157\n",
      "Counter at 159\n",
      "Counter at 161\n",
      "Counter at 163\n",
      "Counter at 165\n",
      "Counter at 167\n",
      "Counter at 169\n",
      "Counter at 171\n",
      "Counter at 173\n",
      "Counter at 175\n",
      "Counter at 177\n",
      "Counter at 179\n",
      "Counter at 181\n",
      "Counter at 183\n",
      "Counter at 185\n",
      "Counter at 187\n",
      "Counter at 189\n",
      "Counter at 191\n",
      "Counter at 193\n",
      "Counter at 195\n",
      "Counter at 197\n",
      "Counter at 199\n"
     ]
    }
   ],
   "source": [
    "# execute classification\n",
    "completions=[]\n",
    "results = gptclassifier(df, message, completions, timer_frequency=2)"
   ]
  },
  {
   "cell_type": "code",
   "execution_count": 33,
   "metadata": {},
   "outputs": [],
   "source": [
    "import pickle as pkl\n",
    "with open(\"results.pkl\", \"wb\") as f:\n",
    "    # Write the list to the file\n",
    "    pkl.dump(results, f)\n",
    "\n",
    "#results"
   ]
  }
 ],
 "metadata": {
  "kernelspec": {
   "display_name": "thesis-venv",
   "language": "python",
   "name": "python3"
  },
  "language_info": {
   "codemirror_mode": {
    "name": "ipython",
    "version": 3
   },
   "file_extension": ".py",
   "mimetype": "text/x-python",
   "name": "python",
   "nbconvert_exporter": "python",
   "pygments_lexer": "ipython3",
   "version": "3.9.2"
  },
  "orig_nbformat": 4
 },
 "nbformat": 4,
 "nbformat_minor": 2
}
