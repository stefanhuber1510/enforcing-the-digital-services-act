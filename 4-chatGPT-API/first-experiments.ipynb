{
 "cells": [
  {
   "attachments": {},
   "cell_type": "markdown",
   "metadata": {},
   "source": [
    "In this file I seek to perform a few first experiments on the chatGPT API and then run the same experiment as on the annotated dataset.\n",
    "- next steps: Calibrate chatGPT prompt\n",
    "- sample preferred dataset\n",
    "- label with all models"
   ]
  },
  {
   "attachments": {},
   "cell_type": "markdown",
   "metadata": {},
   "source": [
    "# before publishing fix API key issue!!!"
   ]
  },
  {
   "cell_type": "code",
   "execution_count": 1,
   "metadata": {},
   "outputs": [],
   "source": [
    "import pandas as pd\n",
    "import pickle as pkl\n",
    "import openai\n",
    "from sklearn.metrics import confusion_matrix\n",
    "import time\n",
    "import json\n",
    "\n",
    "\n",
    "# import large file\n",
    "with open('../2-annotated-dataset-experiments/results.pkl', 'rb') as f:\n",
    "    pre_df = pkl.load(f)\n",
    "\n",
    "# shorten to not murder my computer\n",
    "# df = pre_df.iloc[:50]\n",
    "#del pre_df\n",
    "\n",
    "# retrieve API key\n",
    "import os\n",
    "api_key = os.environ.get('OPENAI_API_KEY')\n",
    "# print(api_key)"
   ]
  },
  {
   "cell_type": "code",
   "execution_count": 2,
   "metadata": {},
   "outputs": [],
   "source": [
    "# only execute for small experiments\n",
    "# only get the ones without disclosures\n",
    "df = pre_df[pre_df[\"has_disclosures\"]==False]\n",
    "\n",
    "# sample 30 ads, 30 non-ads\n",
    "# df = pd.concat([pre_df[pre_df.loc[:,\"label\"]==True].sample(17),\n",
    "#                 pre_df[pre_df.loc[:,\"label\"]==False].sample(17)]).copy()\n",
    "# df.reset_index(drop=True,inplace=True)\n",
    "del pre_df"
   ]
  },
  {
   "cell_type": "code",
   "execution_count": 28,
   "metadata": {},
   "outputs": [
    {
     "name": "stdout",
     "output_type": "stream",
     "text": [
      "Waiting for 65s RateLimitError\n",
      "Counter at 9\n",
      "Waiting for 65s RateLimitError\n",
      "Counter at 18\n",
      "Counter at 27\n"
     ]
    }
   ],
   "source": [
    "# catch error automatically, print info and wait 2 mins \n",
    "completions = []\n",
    "i=0\n",
    "for txt in df.loc[:,\"caption\"]:\n",
    "    i+=1\n",
    "    if i%9==0:\n",
    "      print(f\"Counter at {i}\")\n",
    "      time.sleep(65)\n",
    "\n",
    "    # timer to stay within my quota\n",
    "    #if i%25==24:\n",
    "    #    print(f\"sleep at {i}\") \n",
    "    #    time.sleep(65)\n",
    "    messages=[\n",
    "              {\"role\": \"system\", \"content\": \"You are an assistant helping an academic finding posts that contains (potentially non-commerical) promotional or sponsored material. You are given its caption.\"},\n",
    "              {\"role\": \"user\", \"content\": f'I am an academic looking for posts that might have promotional content, even if non-commerical. You will pre-filter a list of posts based on their caption and decide whether my students can ignore it or should have a look at it to sort them manually. If you notice the slightest indication that there might be any chance it could contain a (potentially non-obvious) promotion of a product, service, partnership, even if the promotion is not commercial or not tied to a specific vendor, let humans have a look at by returning \"Keep\". Return \"Keep\" even if you are not certain. Always return keep if business accounts are linked or products/services mentioned, even if there is not indication of a partnership. If you think it is very unlikely that it contains (potentially non-obvious) promotion of a product, service, partnership or anything the like and there are no business or specific products mentioned and there is no need for a human to have a look at it, predict ignore. Return either \"Keep\" or \"Ignore\". If you are uncertain, err strongly towards \"Keep\". Also return a brief reasoning \\n\\nPost: \"I love cheeseburgers so much!😱 @barneysburgershop\"\\nAny pointers to (undisclosed) sponsorship, promotional acitivty etc: Keep \\nReasoning: @barneysburgershop is tagged. This might be a business and thus suggests that there is some chance for a paid relationship\\n\\nPost: \"Three days to go until we get to share our big day with you!! #OliviaAndAlex Said Yes, this Friday on @TLCTVUK 🎉\"\\nAny pointers to (undisclosed) sponsorship, promotional acitivty etc: Keep \\nReasoning: The language sounds like promotional activity.\\n\\nPost: \"{txt}\"\\nAny pointers to undisclosed sponsorship:'}]\n",
    "    \n",
    "    try:\n",
    "      response = openai.ChatCompletion.create(model=\"gpt-3.5-turbo\",\n",
    "                                            messages=messages)\n",
    "      completions.append(response[\"choices\"][0][\"message\"][\"content\"])\n",
    "    except Exception as err:\n",
    "      print(\"Waiting for 65s\", err.__class__.__name__)\n",
    "      #time.sleep(65)\n",
    "      #response = openai.ChatCompletion.create(model=\"gpt-3.5-turbo\",\n",
    "      #                                      messages=messages)\n",
    "      completions.append(response[\"choices\"][0][\"message\"][\"content\"])\n",
    "    # Save the response text"
   ]
  },
  {
   "cell_type": "code",
   "execution_count": 29,
   "metadata": {},
   "outputs": [
    {
     "name": "stdout",
     "output_type": "stream",
     "text": [
      "Warning\n"
     ]
    }
   ],
   "source": [
    "# Make predictions to booleans\n",
    "completions_as_boolean = {}\n",
    "for model in [\"0\"]:\n",
    "    completions_as_boolean[model] = [True if response.startswith(\"Keep\") \n",
    "                          else False if response.startswith(\"Ignore\")\n",
    "                          else \"warning\" for response in completions]\n",
    "\n",
    "    # check for bad completions\n",
    "    if \"warning\" in completions_as_boolean[model]: print(\"Warning\")\n",
    "\n",
    "    # obtain confusion matrix\n",
    "    else:\n",
    "        print(confusion_matrix(df.loc[:,\"label\"],completions_as_boolean[model]))\n",
    "        print(confusion_matrix(df.loc[:,\"label\"],df.loc[:,\"baseline\"]))\n",
    "        print(confusion_matrix(df.loc[:,\"baseline\"],completions_as_boolean[model]))"
   ]
  },
  {
   "cell_type": "code",
   "execution_count": 38,
   "metadata": {},
   "outputs": [],
   "source": [
    "completions_as_boolean[\"0\"][20] = False"
   ]
  },
  {
   "cell_type": "code",
   "execution_count": 42,
   "metadata": {},
   "outputs": [
    {
     "data": {
      "text/plain": [
       "16"
      ]
     },
     "execution_count": 42,
     "metadata": {},
     "output_type": "execute_result"
    }
   ],
   "source": [
    "sum(pd.Series(completions_as_boolean[\"0\"])==True)"
   ]
  },
  {
   "cell_type": "code",
   "execution_count": 41,
   "metadata": {},
   "outputs": [
    {
     "name": "stdout",
     "output_type": "stream",
     "text": [
      "[[14  3]\n",
      " [ 4 13]]\n",
      "[[11  6]\n",
      " [ 3 14]]\n",
      "[[14  0]\n",
      " [ 4 16]]\n"
     ]
    }
   ],
   "source": [
    "print(confusion_matrix(df.loc[:,\"label\"],completions_as_boolean[model]))\n",
    "print(confusion_matrix(df.loc[:,\"label\"],df.loc[:,\"baseline\"]))\n",
    "print(confusion_matrix(df.loc[:,\"baseline\"],completions_as_boolean[model]))"
   ]
  },
  {
   "cell_type": "code",
   "execution_count": 30,
   "metadata": {},
   "outputs": [
    {
     "data": {
      "text/plain": [
       "['Keep\\nReasoning: \"@bella_gioianyc\" is tagged which suggests that there is a business relationship. The use of \"DEVOURPOWER\" in the hashtag and promotion of the YouTube channel further indicates potential promotional content.',\n",
       " 'Keep\\nReasoning: @nordstrom is tagged with a call to action to check out the full assortment, suggesting there is a partnership.',\n",
       " 'Keep\\nReasoning: The use of @carolinaherrera and hashtag #GoodGirl suggests a potential partnership and promotional activity.',\n",
       " 'Keep\\nReasoning: The use of \"#workingwithchanel\" indicates a promotional relationship.',\n",
       " 'Keep\\nReasoning: @proteinworld is mentioned and their product is being promoted to build muscle, indicating a possible sponsored post.',\n",
       " 'Keep\\nReasoning: @proteinworld is mentioned and their product is being promoted to build muscle, indicating a possible sponsored post.',\n",
       " 'Keep\\nReasoning: The post talks about shopping on the @liketoknow.it app, which suggests there may be a paid partnership or affiliation.',\n",
       " 'Ignore \\nReasoning: There are no indications of any promotional activity or sponsorship in the post.',\n",
       " \"Keep\\nReasoning: The use of the account's name itself @devour.kitchen indicates that it might be promoting something related to kitchen, cooking, etc. Additionally, the use of hashtags such as #DEVOURPOWER and requesting followers to tag others as #DEVOURER also suggest a promotional activity.\",\n",
       " 'Ignore \\nReasoning: There is no specific product or business mentioned and no indication of any potential promotion or sponsorship.',\n",
       " 'Keep \\nReasoning: There are many brand mentions in the post (@luciano_padovan, @lms.wellness, #balmain, #gucci) which suggest there may be undisclosed partnerships/sponsorships involved.',\n",
       " 'Keep \\nReasoning: The last line mentions the brand \"@gymshark\" which indicates a chance for a paid relationship.',\n",
       " 'Keep \\nReasoning: @hamburger.stan is tagged, and the post contains language that suggests a promotional activity. The post also includes a call to action which may indicate promotional intentions.',\n",
       " 'Keep \\nReasoning: The post includes a specific brand and mentions a store where the brand is available, which may suggest a promotional or sponsored relationship.',\n",
       " 'Keep \\nReasoning: @roastporknyc and @devour.cheese are tagged. It seems like a promotional activity for these businesses. Also, the #DEVOURPOWER suggests some promotion or partnership.',\n",
       " 'Ignore \\nReasoning: Although a website is linked, the post clearly states that ticket sales will be donated to non-profit organizations, indicating a non-promotional activity.',\n",
       " 'Ignore \\nReasoning: Although a website is linked, the post clearly states that ticket sales will be donated to non-profit organizations, indicating a non-promotional activity.',\n",
       " 'Ignore \\nReasoning: There are no specific products or businesses mentioned, and the caption does not suggest any promotion or partnership.',\n",
       " 'Ignore \\nReasoning: While this post mentions other people and brands, there is no clear indication of a promotional activity or sponsorship.',\n",
       " 'Ignore \\nReasoning: There is no indication of promotional activity or a commercial relationship.',\n",
       " 'Predicted label: Ignore\\nReasoning: There are no business or product mentions, and the post is focused on the personal preference of the individual.',\n",
       " 'Ignore \\nReasoning: No indication of any sponsorship or promotion.',\n",
       " 'Keep\\nReasoning: The use of the 💲(dollar sign) emojis and tagging of @swanmiami, @davegrutman, and @alexadellanos suggests a possible paid partnership or promotional activity.',\n",
       " 'Ignore.\\nReasoning: There is no mentioning or implication of sponsorship or promotional activity in this post.',\n",
       " 'Ignore \\nReasoning: No indication of any promotion or partnership mentioned.',\n",
       " 'Ignore \\nReasoning: There are no indications of a promotion or business accounts mentioned in the caption.',\n",
       " 'Ignore \\nReasoning: There are no specific products or businesses mentioned, and there is no language that suggests promotional activity.',\n",
       " 'Keep\\nReasoning: The use of hashtags like #DEVOURPOWER and the language used suggests promotion of a product or service.',\n",
       " 'Ignore\\nReasoning: There is no indication of any promotion or sponsorship. The post is about a visit to a historical site.',\n",
       " 'Keep \\nReasoning: @rockallegiance is tagged which might suggest some kind of partnership or endorsement.',\n",
       " 'Ignore \\nReasoning: There are no indications of any promotional activity or sponsorship mentioned in the post caption.',\n",
       " 'Ignore\\nReasoning: No pointers to any promotional activity or partnerships.',\n",
       " 'Ignore\\nReasoning: There is no specific product or service mentioned, no business account tagged, and no clear indication of promotional activity.',\n",
       " 'Ignore \\nReasoning: This post seems to be more focused on discussing a political candidate and a debate rather than promoting a product or a service, and there are no indications of any sponsorship or promotional activity.']"
      ]
     },
     "execution_count": 30,
     "metadata": {},
     "output_type": "execute_result"
    }
   ],
   "source": [
    "completions"
   ]
  },
  {
   "cell_type": "code",
   "execution_count": 6,
   "metadata": {},
   "outputs": [
    {
     "data": {
      "text/plain": [
       "14"
      ]
     },
     "execution_count": 6,
     "metadata": {},
     "output_type": "execute_result"
    }
   ],
   "source": [
    "sum(completions_as_boolean[\"0\"])\n",
    "result = pd.concat([df[\"baseline\"].reset_index(drop=True),df[\"label\"].reset_index(drop=True),pd.Series(completions_as_boolean[\"0\"]).reset_index(drop=True)],axis=1)\n",
    "sum(result[0])"
   ]
  },
  {
   "cell_type": "code",
   "execution_count": null,
   "metadata": {},
   "outputs": [],
   "source": [
    "# Qualitative findings: \n",
    "# 1) It is extremely hard to convince it to make it be more lenient with predictions. I suspect this is an induced \"fear\" of saying something wrong due to the fine-tuning to behave correctly\n",
    "# 2) If it plans to predict a reasoning _even after_ having done a classification, this increases its likelihood to predict true. This is particularly interesting because it contradicts the comon\n",
    "# 3) mention in the report that i strongly optimised for finding things and thus the accuracy is lower than it could be\n",
    "# 4) If the models disagree, it always contains an ad. All shared prediction errors are both models say \"False\" even though its true"
   ]
  },
  {
   "cell_type": "code",
   "execution_count": 12,
   "metadata": {},
   "outputs": [
    {
     "name": "stdout",
     "output_type": "stream",
     "text": [
      "Counter at 10\n"
     ]
    },
    {
     "ename": "RateLimitError",
     "evalue": "Rate limit reached for default-gpt-3.5-turbo in organization org-6DSDI7PThDmCIofHg69pz46D on requests per min. Limit: 20 / min. Current: 30 / min. Contact support@openai.com if you continue to have issues. Please add a payment method to your account to increase your rate limit. Visit https://platform.openai.com/account/billing to add a payment method.",
     "output_type": "error",
     "traceback": [
      "\u001b[0;31m---------------------------------------------------------------------------\u001b[0m",
      "\u001b[0;31mRateLimitError\u001b[0m                            Traceback (most recent call last)",
      "Cell \u001b[0;32mIn[12], line 16\u001b[0m\n\u001b[1;32m      9\u001b[0m \u001b[39mif\u001b[39;00m i\u001b[39m%\u001b[39m\u001b[39m10\u001b[39m\u001b[39m==\u001b[39m\u001b[39m0\u001b[39m: \u001b[39mprint\u001b[39m(\u001b[39mf\u001b[39m\u001b[39m\"\u001b[39m\u001b[39mCounter at \u001b[39m\u001b[39m{\u001b[39;00mi\u001b[39m}\u001b[39;00m\u001b[39m\"\u001b[39m)\n\u001b[1;32m     11\u001b[0m \u001b[39m# timer to stay within my quota\u001b[39;00m\n\u001b[1;32m     12\u001b[0m \u001b[39m#if i%25==24:\u001b[39;00m\n\u001b[1;32m     13\u001b[0m \u001b[39m#    print(f\"sleep at {i}\") \u001b[39;00m\n\u001b[1;32m     14\u001b[0m \u001b[39m#    time.sleep(65)\u001b[39;00m\n\u001b[0;32m---> 16\u001b[0m response \u001b[39m=\u001b[39m openai\u001b[39m.\u001b[39;49mChatCompletion\u001b[39m.\u001b[39;49mcreate(\n\u001b[1;32m     17\u001b[0m             model\u001b[39m=\u001b[39;49m\u001b[39m\"\u001b[39;49m\u001b[39mgpt-3.5-turbo\u001b[39;49m\u001b[39m\"\u001b[39;49m,\n\u001b[1;32m     18\u001b[0m             messages\u001b[39m=\u001b[39;49m[\n\u001b[1;32m     19\u001b[0m             {\u001b[39m\"\u001b[39;49m\u001b[39mrole\u001b[39;49m\u001b[39m\"\u001b[39;49m: \u001b[39m\"\u001b[39;49m\u001b[39msystem\u001b[39;49m\u001b[39m\"\u001b[39;49m, \u001b[39m\"\u001b[39;49m\u001b[39mcontent\u001b[39;49m\u001b[39m\"\u001b[39;49m: \u001b[39m\"\u001b[39;49m\u001b[39mYou are an assistant who gives a recommendation on whether you think it is likely that a post contains ads, given its caption.\u001b[39;49m\u001b[39m\"\u001b[39;49m},\n\u001b[1;32m     20\u001b[0m             {\u001b[39m\"\u001b[39;49m\u001b[39mrole\u001b[39;49m\u001b[39m\"\u001b[39;49m: \u001b[39m\"\u001b[39;49m\u001b[39muser\u001b[39;49m\u001b[39m\"\u001b[39;49m, \u001b[39m\"\u001b[39;49m\u001b[39mcontent\u001b[39;49m\u001b[39m\"\u001b[39;49m:\n\u001b[1;32m     21\u001b[0m                 \u001b[39mf\u001b[39;49m\u001b[39m\"\u001b[39;49m\u001b[39mMight the following post have been sponsored? \u001b[39;49m\u001b[39m\\n\u001b[39;49;00m\u001b[39mPost: \u001b[39;49m\u001b[39m'\u001b[39;49m\u001b[39m{\u001b[39;49;00mtxt\u001b[39m}\u001b[39;49;00m\u001b[39m'\u001b[39;49m\u001b[39m\\n\u001b[39;49;00m\u001b[39mRespond with nothing more than \u001b[39;49m\u001b[39m'\u001b[39;49m\u001b[39mTrue\u001b[39;49m\u001b[39m'\u001b[39;49m\u001b[39m or \u001b[39;49m\u001b[39m'\u001b[39;49m\u001b[39mFalse\u001b[39;49m\u001b[39m'\u001b[39;49m\u001b[39m:\u001b[39;49m\u001b[39m\"\u001b[39;49m}\n\u001b[1;32m     22\u001b[0m             ]\n\u001b[1;32m     23\u001b[0m         )\n\u001b[1;32m     25\u001b[0m \u001b[39m# Save the response text\u001b[39;00m\n\u001b[1;32m     26\u001b[0m completions[\u001b[39mstr\u001b[39m(x)]\u001b[39m.\u001b[39mappend(response[\u001b[39m\"\u001b[39m\u001b[39mchoices\u001b[39m\u001b[39m\"\u001b[39m][\u001b[39m0\u001b[39m][\u001b[39m\"\u001b[39m\u001b[39mmessage\u001b[39m\u001b[39m\"\u001b[39m][\u001b[39m\"\u001b[39m\u001b[39mcontent\u001b[39m\u001b[39m\"\u001b[39m])\n",
      "File \u001b[0;32m~/UM-final-semester/thesis/enforcing-the-digital-services-act/thesis-venv/lib/python3.9/site-packages/openai/api_resources/chat_completion.py:25\u001b[0m, in \u001b[0;36mChatCompletion.create\u001b[0;34m(cls, *args, **kwargs)\u001b[0m\n\u001b[1;32m     23\u001b[0m \u001b[39mwhile\u001b[39;00m \u001b[39mTrue\u001b[39;00m:\n\u001b[1;32m     24\u001b[0m     \u001b[39mtry\u001b[39;00m:\n\u001b[0;32m---> 25\u001b[0m         \u001b[39mreturn\u001b[39;00m \u001b[39msuper\u001b[39;49m()\u001b[39m.\u001b[39;49mcreate(\u001b[39m*\u001b[39;49margs, \u001b[39m*\u001b[39;49m\u001b[39m*\u001b[39;49mkwargs)\n\u001b[1;32m     26\u001b[0m     \u001b[39mexcept\u001b[39;00m TryAgain \u001b[39mas\u001b[39;00m e:\n\u001b[1;32m     27\u001b[0m         \u001b[39mif\u001b[39;00m timeout \u001b[39mis\u001b[39;00m \u001b[39mnot\u001b[39;00m \u001b[39mNone\u001b[39;00m \u001b[39mand\u001b[39;00m time\u001b[39m.\u001b[39mtime() \u001b[39m>\u001b[39m start \u001b[39m+\u001b[39m timeout:\n",
      "File \u001b[0;32m~/UM-final-semester/thesis/enforcing-the-digital-services-act/thesis-venv/lib/python3.9/site-packages/openai/api_resources/abstract/engine_api_resource.py:153\u001b[0m, in \u001b[0;36mEngineAPIResource.create\u001b[0;34m(cls, api_key, api_base, api_type, request_id, api_version, organization, **params)\u001b[0m\n\u001b[1;32m    127\u001b[0m \u001b[39m@classmethod\u001b[39m\n\u001b[1;32m    128\u001b[0m \u001b[39mdef\u001b[39;00m \u001b[39mcreate\u001b[39m(\n\u001b[1;32m    129\u001b[0m     \u001b[39mcls\u001b[39m,\n\u001b[0;32m   (...)\u001b[0m\n\u001b[1;32m    136\u001b[0m     \u001b[39m*\u001b[39m\u001b[39m*\u001b[39mparams,\n\u001b[1;32m    137\u001b[0m ):\n\u001b[1;32m    138\u001b[0m     (\n\u001b[1;32m    139\u001b[0m         deployment_id,\n\u001b[1;32m    140\u001b[0m         engine,\n\u001b[0;32m   (...)\u001b[0m\n\u001b[1;32m    150\u001b[0m         api_key, api_base, api_type, api_version, organization, \u001b[39m*\u001b[39m\u001b[39m*\u001b[39mparams\n\u001b[1;32m    151\u001b[0m     )\n\u001b[0;32m--> 153\u001b[0m     response, _, api_key \u001b[39m=\u001b[39m requestor\u001b[39m.\u001b[39;49mrequest(\n\u001b[1;32m    154\u001b[0m         \u001b[39m\"\u001b[39;49m\u001b[39mpost\u001b[39;49m\u001b[39m\"\u001b[39;49m,\n\u001b[1;32m    155\u001b[0m         url,\n\u001b[1;32m    156\u001b[0m         params\u001b[39m=\u001b[39;49mparams,\n\u001b[1;32m    157\u001b[0m         headers\u001b[39m=\u001b[39;49mheaders,\n\u001b[1;32m    158\u001b[0m         stream\u001b[39m=\u001b[39;49mstream,\n\u001b[1;32m    159\u001b[0m         request_id\u001b[39m=\u001b[39;49mrequest_id,\n\u001b[1;32m    160\u001b[0m         request_timeout\u001b[39m=\u001b[39;49mrequest_timeout,\n\u001b[1;32m    161\u001b[0m     )\n\u001b[1;32m    163\u001b[0m     \u001b[39mif\u001b[39;00m stream:\n\u001b[1;32m    164\u001b[0m         \u001b[39m# must be an iterator\u001b[39;00m\n\u001b[1;32m    165\u001b[0m         \u001b[39massert\u001b[39;00m \u001b[39mnot\u001b[39;00m \u001b[39misinstance\u001b[39m(response, OpenAIResponse)\n",
      "File \u001b[0;32m~/UM-final-semester/thesis/enforcing-the-digital-services-act/thesis-venv/lib/python3.9/site-packages/openai/api_requestor.py:226\u001b[0m, in \u001b[0;36mAPIRequestor.request\u001b[0;34m(self, method, url, params, headers, files, stream, request_id, request_timeout)\u001b[0m\n\u001b[1;32m    205\u001b[0m \u001b[39mdef\u001b[39;00m \u001b[39mrequest\u001b[39m(\n\u001b[1;32m    206\u001b[0m     \u001b[39mself\u001b[39m,\n\u001b[1;32m    207\u001b[0m     method,\n\u001b[0;32m   (...)\u001b[0m\n\u001b[1;32m    214\u001b[0m     request_timeout: Optional[Union[\u001b[39mfloat\u001b[39m, Tuple[\u001b[39mfloat\u001b[39m, \u001b[39mfloat\u001b[39m]]] \u001b[39m=\u001b[39m \u001b[39mNone\u001b[39;00m,\n\u001b[1;32m    215\u001b[0m ) \u001b[39m-\u001b[39m\u001b[39m>\u001b[39m Tuple[Union[OpenAIResponse, Iterator[OpenAIResponse]], \u001b[39mbool\u001b[39m, \u001b[39mstr\u001b[39m]:\n\u001b[1;32m    216\u001b[0m     result \u001b[39m=\u001b[39m \u001b[39mself\u001b[39m\u001b[39m.\u001b[39mrequest_raw(\n\u001b[1;32m    217\u001b[0m         method\u001b[39m.\u001b[39mlower(),\n\u001b[1;32m    218\u001b[0m         url,\n\u001b[0;32m   (...)\u001b[0m\n\u001b[1;32m    224\u001b[0m         request_timeout\u001b[39m=\u001b[39mrequest_timeout,\n\u001b[1;32m    225\u001b[0m     )\n\u001b[0;32m--> 226\u001b[0m     resp, got_stream \u001b[39m=\u001b[39m \u001b[39mself\u001b[39;49m\u001b[39m.\u001b[39;49m_interpret_response(result, stream)\n\u001b[1;32m    227\u001b[0m     \u001b[39mreturn\u001b[39;00m resp, got_stream, \u001b[39mself\u001b[39m\u001b[39m.\u001b[39mapi_key\n",
      "File \u001b[0;32m~/UM-final-semester/thesis/enforcing-the-digital-services-act/thesis-venv/lib/python3.9/site-packages/openai/api_requestor.py:619\u001b[0m, in \u001b[0;36mAPIRequestor._interpret_response\u001b[0;34m(self, result, stream)\u001b[0m\n\u001b[1;32m    611\u001b[0m     \u001b[39mreturn\u001b[39;00m (\n\u001b[1;32m    612\u001b[0m         \u001b[39mself\u001b[39m\u001b[39m.\u001b[39m_interpret_response_line(\n\u001b[1;32m    613\u001b[0m             line, result\u001b[39m.\u001b[39mstatus_code, result\u001b[39m.\u001b[39mheaders, stream\u001b[39m=\u001b[39m\u001b[39mTrue\u001b[39;00m\n\u001b[1;32m    614\u001b[0m         )\n\u001b[1;32m    615\u001b[0m         \u001b[39mfor\u001b[39;00m line \u001b[39min\u001b[39;00m parse_stream(result\u001b[39m.\u001b[39miter_lines())\n\u001b[1;32m    616\u001b[0m     ), \u001b[39mTrue\u001b[39;00m\n\u001b[1;32m    617\u001b[0m \u001b[39melse\u001b[39;00m:\n\u001b[1;32m    618\u001b[0m     \u001b[39mreturn\u001b[39;00m (\n\u001b[0;32m--> 619\u001b[0m         \u001b[39mself\u001b[39;49m\u001b[39m.\u001b[39;49m_interpret_response_line(\n\u001b[1;32m    620\u001b[0m             result\u001b[39m.\u001b[39;49mcontent\u001b[39m.\u001b[39;49mdecode(\u001b[39m\"\u001b[39;49m\u001b[39mutf-8\u001b[39;49m\u001b[39m\"\u001b[39;49m),\n\u001b[1;32m    621\u001b[0m             result\u001b[39m.\u001b[39;49mstatus_code,\n\u001b[1;32m    622\u001b[0m             result\u001b[39m.\u001b[39;49mheaders,\n\u001b[1;32m    623\u001b[0m             stream\u001b[39m=\u001b[39;49m\u001b[39mFalse\u001b[39;49;00m,\n\u001b[1;32m    624\u001b[0m         ),\n\u001b[1;32m    625\u001b[0m         \u001b[39mFalse\u001b[39;00m,\n\u001b[1;32m    626\u001b[0m     )\n",
      "File \u001b[0;32m~/UM-final-semester/thesis/enforcing-the-digital-services-act/thesis-venv/lib/python3.9/site-packages/openai/api_requestor.py:679\u001b[0m, in \u001b[0;36mAPIRequestor._interpret_response_line\u001b[0;34m(self, rbody, rcode, rheaders, stream)\u001b[0m\n\u001b[1;32m    677\u001b[0m stream_error \u001b[39m=\u001b[39m stream \u001b[39mand\u001b[39;00m \u001b[39m\"\u001b[39m\u001b[39merror\u001b[39m\u001b[39m\"\u001b[39m \u001b[39min\u001b[39;00m resp\u001b[39m.\u001b[39mdata\n\u001b[1;32m    678\u001b[0m \u001b[39mif\u001b[39;00m stream_error \u001b[39mor\u001b[39;00m \u001b[39mnot\u001b[39;00m \u001b[39m200\u001b[39m \u001b[39m<\u001b[39m\u001b[39m=\u001b[39m rcode \u001b[39m<\u001b[39m \u001b[39m300\u001b[39m:\n\u001b[0;32m--> 679\u001b[0m     \u001b[39mraise\u001b[39;00m \u001b[39mself\u001b[39m\u001b[39m.\u001b[39mhandle_error_response(\n\u001b[1;32m    680\u001b[0m         rbody, rcode, resp\u001b[39m.\u001b[39mdata, rheaders, stream_error\u001b[39m=\u001b[39mstream_error\n\u001b[1;32m    681\u001b[0m     )\n\u001b[1;32m    682\u001b[0m \u001b[39mreturn\u001b[39;00m resp\n",
      "\u001b[0;31mRateLimitError\u001b[0m: Rate limit reached for default-gpt-3.5-turbo in organization org-6DSDI7PThDmCIofHg69pz46D on requests per min. Limit: 20 / min. Current: 30 / min. Contact support@openai.com if you continue to have issues. Please add a payment method to your account to increase your rate limit. Visit https://platform.openai.com/account/billing to add a payment method."
     ]
    }
   ],
   "source": [
    "# Generate classifications for davinci only\n",
    "\n",
    "completions ={\"0\":[],\"1\":[]} #{\"text-ada-001\":[], \"text-babbage-001\":[], \"text-curie-001\":[], \"text-davinci-002\":[]}\n",
    "i=0\n",
    "for x in range(1):#,\"text-ada-001\", \"text-babbage-001\", \"text-curie-001\"]:\n",
    "    #i=0\n",
    "    for txt in df.loc[:,\"caption\"]:\n",
    "        i+=1\n",
    "        if i%10==0: print(f\"Counter at {i}\")\n",
    "\n",
    "        # timer to stay within my quota\n",
    "        #if i%25==24:\n",
    "        #    print(f\"sleep at {i}\") \n",
    "        #    time.sleep(65)\n",
    "            \n",
    "        response = openai.ChatCompletion.create(\n",
    "                    model=\"gpt-3.5-turbo\",\n",
    "                    messages=[\n",
    "                    {\"role\": \"system\", \"content\": \"You are an assistant who gives a recommendation on whether you think it is likely that a post contains ads, given its caption.\"},\n",
    "                    {\"role\": \"user\", \"content\":\n",
    "                        f\"Might the following post have been sponsored? \\nPost: '{txt}'\\nRespond with nothing more than 'True' or 'False':\"}\n",
    "                    ]\n",
    "                )\n",
    "\n",
    "        # Save the response text\n",
    "        completions[str(x)].append(response[\"choices\"][0][\"message\"][\"content\"])\n",
    "    print(str(x),\" done\")"
   ]
  }
 ],
 "metadata": {
  "kernelspec": {
   "display_name": "thesis-venv",
   "language": "python",
   "name": "python3"
  },
  "language_info": {
   "codemirror_mode": {
    "name": "ipython",
    "version": 3
   },
   "file_extension": ".py",
   "mimetype": "text/x-python",
   "name": "python",
   "nbconvert_exporter": "python",
   "pygments_lexer": "ipython3",
   "version": "3.9.2"
  },
  "orig_nbformat": 4,
  "vscode": {
   "interpreter": {
    "hash": "a77bef5ee125e2e618baf551b074bfaad8849f149b7d18481cda5d9e44c89061"
   }
  }
 },
 "nbformat": 4,
 "nbformat_minor": 2
}
