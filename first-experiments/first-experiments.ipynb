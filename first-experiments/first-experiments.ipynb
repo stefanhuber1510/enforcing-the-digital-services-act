{
 "cells": [
  {
   "attachments": {},
   "cell_type": "markdown",
   "metadata": {},
   "source": [
    "## First thesis Experiments\n",
    "In this notbook, I seek to\n",
    "- explore the data set I've got\n",
    "- send some openAI request\n",
    "- run a small sample to get a performance estimate\n",
    "- vary parameters, models\n",
    "- run a large sample, potentially from cluster"
   ]
  },
  {
   "cell_type": "code",
   "execution_count": null,
   "metadata": {},
   "outputs": [],
   "source": [
    "!pip install openai\n",
    "!pip install pandas\n",
    "!pip install sklearn"
   ]
  },
  {
   "cell_type": "code",
   "execution_count": 1,
   "metadata": {},
   "outputs": [],
   "source": [
    "import pandas as pd\n",
    "import pickle as pkl\n",
    "import openai\n",
    "from sklearn.metrics import confusion_matrix\n",
    "import time\n",
    "import json\n",
    "\n",
    "# import large file\n",
    "with open('../ct_df_posts_single_preds.pkl', 'rb') as f:\n",
    "    pre_df = pkl.load(f)\n",
    "\n",
    "# shorten to not murder my computer\n",
    "# df = pre_df.iloc[:50]\n",
    "#del pre_df\n",
    "\n",
    "# retrieve API key\n",
    "import os\n",
    "api_key = os.environ.get('OPENAI_API_KEY')\n",
    "# print(api_key)"
   ]
  },
  {
   "cell_type": "code",
   "execution_count": 11,
   "metadata": {},
   "outputs": [],
   "source": [
    "# only get the ones without disclosures\n",
    "pre_df = pre_df[pre_df[\"has_disclosures\"]==False]\n",
    "\n",
    "# sample 50 ads, 50 non-ads\n",
    "df = pd.concat([pre_df[pre_df.loc[:,\"predicted_disclosure\"]==True].sample(60),\n",
    "                pre_df[pre_df.loc[:,\"predicted_disclosure\"]==False].sample(60)]).copy()\n",
    "df.reset_index(drop=True,inplace=True)\n",
    "del pre_df"
   ]
  },
  {
   "attachments": {},
   "cell_type": "markdown",
   "metadata": {},
   "source": [
    "### First attempt: Using normal models"
   ]
  },
  {
   "cell_type": "code",
   "execution_count": 22,
   "metadata": {},
   "outputs": [
    {
     "name": "stdout",
     "output_type": "stream",
     "text": [
      "Counter at 10\n",
      "Counter at 20\n",
      "Counter at 30\n",
      "Counter at 40\n",
      "Counter at 50\n",
      "Counter at 60\n",
      "Counter at 70\n",
      "Counter at 80\n",
      "Counter at 90\n",
      "Counter at 100\n"
     ]
    }
   ],
   "source": [
    "# Generate classifications for all samples\n",
    "\n",
    "completions = {\"text-ada-001\":[], \"text-babbage-001\":[], \"text-curie-001\":[], \"text-davinci-002\":[]}\n",
    "\n",
    "for model in [\"text-ada-001\", \"text-babbage-001\", \"text-curie-001\", \"text-davinci-002\"]:\n",
    "    i=0\n",
    "    for txt in df.loc[:,\"caption\"]:\n",
    "        i+=1\n",
    "        if i%10==0: print(f\"Counter at {i}\")\n",
    "\n",
    "        # timer to stay within my quota\n",
    "        if i==34: time.sleep(65)\n",
    "        if i==68: time.sleep(65)\n",
    "\n",
    "        prompt = f\"Judge whether it is likely that the following caption comes from a post that has been sponsored. Try to aim for a 50:50 distribution between True and False.\\n\\n Post: 'aaaa meu look de hoje é da @cea_brasil ❤️ patrocinadora e dona do look oficial do Rock in Rio! Aproveitem pra acompanhar o perfil da C&A pra ver todos os lookinhos maravilhosos! Amo muito! ❤️'\\n Sponsored (True/False): True\\n\\n Post: 'side by side ~ sisters ❤️'\\n Sponsored (True/False): True\\n\\n Post:{txt}\\n Sponsored (True/False):\"\n",
    "\n",
    "        # Generate a response from openai.\n",
    "        # Flexibly choose ada/babbage/curie/davinci as engine. For davinci, use text-davinci-002.\n",
    "        response = openai.Completion.create(\n",
    "            engine=model,\n",
    "            prompt=prompt,\n",
    "            max_tokens=5,\n",
    "            n=3,\n",
    "            stop=None,\n",
    "            temperature=0,\n",
    "        )\n",
    "\n",
    "        # Save the response text\n",
    "        completions[model].append(response[\"choices\"][0][\"text\"])\n",
    "    print(model+\" done\")\n",
    "    time.sleep(65)"
   ]
  },
  {
   "cell_type": "code",
   "execution_count": 23,
   "metadata": {},
   "outputs": [
    {
     "data": {
      "text/plain": [
       "array([[48,  2],\n",
       "       [19, 31]])"
      ]
     },
     "execution_count": 23,
     "metadata": {},
     "output_type": "execute_result"
    }
   ],
   "source": [
    "# Make predictions to booleans\n",
    "completions_as_boolean = [True if response.__contains__(\"rue\") \n",
    "                          else False if response.__contains__(\"als\")\n",
    "                          else \"warning\" for response in completions]\n",
    "\n",
    "# check for bad completions\n",
    "if \"warning\" in vanilla_TF: print(\"Warning\")\n",
    "\n",
    "# obtain confusion matrix\n",
    "matrix = confusion_matrix(df[\"has_disclosures\"],completions_as_boolean)\n",
    "matrix"
   ]
  },
  {
   "cell_type": "code",
   "execution_count": 6,
   "metadata": {},
   "outputs": [],
   "source": [
    "# Example Request OpenAI API\n",
    "response = openai.Completion.create(\n",
    "    engine=\"text-davinci-002\",\n",
    "    prompt=\"Write a longer essay about what PBL is, how it is applied in different instiutions and discuss advantages and disadvanatages in detail\",\n",
    "    max_tokens=1050,\n",
    "    n=1,\n",
    "    stop=None,\n",
    "    temperature=1,\n",
    ")"
   ]
  },
  {
   "attachments": {},
   "cell_type": "markdown",
   "metadata": {},
   "source": [
    "### Using the fine-tune API"
   ]
  },
  {
   "cell_type": "code",
   "execution_count": 42,
   "metadata": {},
   "outputs": [
    {
     "data": {
      "text/html": [
       "<div>\n",
       "<style scoped>\n",
       "    .dataframe tbody tr th:only-of-type {\n",
       "        vertical-align: middle;\n",
       "    }\n",
       "\n",
       "    .dataframe tbody tr th {\n",
       "        vertical-align: top;\n",
       "    }\n",
       "\n",
       "    .dataframe thead th {\n",
       "        text-align: right;\n",
       "    }\n",
       "</style>\n",
       "<table border=\"1\" class=\"dataframe\">\n",
       "  <thead>\n",
       "    <tr style=\"text-align: right;\">\n",
       "      <th></th>\n",
       "      <th>username</th>\n",
       "      <th>caption</th>\n",
       "      <th>caption_hashtags</th>\n",
       "      <th>tagged_users</th>\n",
       "      <th>subscriber_count</th>\n",
       "      <th>ct_score</th>\n",
       "      <th>counts_disabled</th>\n",
       "      <th>likes</th>\n",
       "      <th>likes_expected</th>\n",
       "      <th>comments</th>\n",
       "      <th>...</th>\n",
       "      <th>setting</th>\n",
       "      <th>has_sponsored_hashtags</th>\n",
       "      <th>has_sponsored_keywords</th>\n",
       "      <th>has_disclosures</th>\n",
       "      <th>caption_tokenized</th>\n",
       "      <th>caption_task</th>\n",
       "      <th>shortcode</th>\n",
       "      <th>followers</th>\n",
       "      <th>dt_year_mon</th>\n",
       "      <th>predicted_disclosure</th>\n",
       "    </tr>\n",
       "  </thead>\n",
       "  <tbody>\n",
       "    <tr>\n",
       "      <th>0</th>\n",
       "      <td>niinasecrets</td>\n",
       "      <td>Comece recomece quantas vezes quiser... Agora ...</td>\n",
       "      <td>[publi]</td>\n",
       "      <td>[voucolar]</td>\n",
       "      <td>1554141</td>\n",
       "      <td>-2.028338</td>\n",
       "      <td>False</td>\n",
       "      <td>25276</td>\n",
       "      <td>51373</td>\n",
       "      <td>237</td>\n",
       "      <td>...</td>\n",
       "      <td>BR_mega</td>\n",
       "      <td>True</td>\n",
       "      <td>True</td>\n",
       "      <td>True</td>\n",
       "      <td>Comece recomece quantas vezes quiser ... Agora...</td>\n",
       "      <td>Comece recomece quantas vezes quiser ... Agora...</td>\n",
       "      <td>BDGpfWxy_Ov</td>\n",
       "      <td>3548127</td>\n",
       "      <td>2016/03</td>\n",
       "      <td>False</td>\n",
       "    </tr>\n",
       "    <tr>\n",
       "      <th>1</th>\n",
       "      <td>niinasecrets</td>\n",
       "      <td>Genteee, recebi um convite babado! Mês que vem...</td>\n",
       "      <td>[senaibrasilfashion, brasilfashion, senaicetiq...</td>\n",
       "      <td>[agencia_samba]</td>\n",
       "      <td>2084430</td>\n",
       "      <td>1.041199</td>\n",
       "      <td>False</td>\n",
       "      <td>53597</td>\n",
       "      <td>51373</td>\n",
       "      <td>284</td>\n",
       "      <td>...</td>\n",
       "      <td>BR_mega</td>\n",
       "      <td>True</td>\n",
       "      <td>True</td>\n",
       "      <td>True</td>\n",
       "      <td>Genteee , recebi um convite babado ! Mês que v...</td>\n",
       "      <td>Genteee , recebi um convite babado ! Mês que v...</td>\n",
       "      <td>BMPtWbZBPJk</td>\n",
       "      <td>3548127</td>\n",
       "      <td>2016/10</td>\n",
       "      <td>False</td>\n",
       "    </tr>\n",
       "  </tbody>\n",
       "</table>\n",
       "<p>2 rows × 30 columns</p>\n",
       "</div>"
      ],
      "text/plain": [
       "       username                                            caption  \\\n",
       "0  niinasecrets  Comece recomece quantas vezes quiser... Agora ...   \n",
       "1  niinasecrets  Genteee, recebi um convite babado! Mês que vem...   \n",
       "\n",
       "                                    caption_hashtags     tagged_users  \\\n",
       "0                                            [publi]       [voucolar]   \n",
       "1  [senaibrasilfashion, brasilfashion, senaicetiq...  [agencia_samba]   \n",
       "\n",
       "   subscriber_count  ct_score  counts_disabled  likes  likes_expected  \\\n",
       "0           1554141 -2.028338            False  25276           51373   \n",
       "1           2084430  1.041199            False  53597           51373   \n",
       "\n",
       "   comments  ...  setting  has_sponsored_hashtags has_sponsored_keywords  \\\n",
       "0       237  ...  BR_mega                    True                   True   \n",
       "1       284  ...  BR_mega                    True                   True   \n",
       "\n",
       "  has_disclosures                                  caption_tokenized  \\\n",
       "0            True  Comece recomece quantas vezes quiser ... Agora...   \n",
       "1            True  Genteee , recebi um convite babado ! Mês que v...   \n",
       "\n",
       "                                        caption_task    shortcode followers  \\\n",
       "0  Comece recomece quantas vezes quiser ... Agora...  BDGpfWxy_Ov   3548127   \n",
       "1  Genteee , recebi um convite babado ! Mês que v...  BMPtWbZBPJk   3548127   \n",
       "\n",
       "  dt_year_mon predicted_disclosure  \n",
       "0     2016/03                False  \n",
       "1     2016/10                False  \n",
       "\n",
       "[2 rows x 30 columns]"
      ]
     },
     "execution_count": 42,
     "metadata": {},
     "output_type": "execute_result"
    }
   ],
   "source": [
    "df.iloc[:2,:]\n",
    "# last column predicted disclousere is the output from bert model but only ran on the samples that are not disclosed. Because for the disclosed ones we already know its disloced. But it ran without the hashtags\n",
    "\n",
    "#he meets supervisor on monday to discuss XAI conference plans\n",
    "#send some prediction scores tonight"
   ]
  },
  {
   "cell_type": "code",
   "execution_count": 39,
   "metadata": {},
   "outputs": [],
   "source": [
    "# take 10 true and false ones\n",
    "train_examples = pd.concat([df.iloc[:10],df.iloc[-10:]])\n",
    "\n",
    "# store them as jsonl like {\"text\":\"some text\",\"label\":\"True\"} \\n {...}\n",
    "train_examples.rename(columns={\"caption\":\"text\",\"has_disclosures\":\"label\"},inplace=True)\n",
    "train_examples.loc[:,[\"text\",\"label\"]].to_json(\"train2.jsonl\", orient='records', lines=True)"
   ]
  },
  {
   "cell_type": "code",
   "execution_count": 1,
   "metadata": {},
   "outputs": [
    {
     "name": "stdout",
     "output_type": "stream",
     "text": [
      "Requirement already satisfied: openai in /home/poeticfootsoldier/.local/lib/python3.9/site-packages (0.26.5)\n",
      "Collecting openai\n",
      "  Using cached openai-0.26.5-py3-none-any.whl\n",
      "  Using cached openai-0.26.4-py3-none-any.whl\n",
      "Requirement already satisfied: tqdm in /home/poeticfootsoldier/.local/lib/python3.9/site-packages (from openai) (4.64.1)\n",
      "Requirement already satisfied: aiohttp in /home/poeticfootsoldier/.local/lib/python3.9/site-packages (from openai) (3.8.3)\n",
      "Requirement already satisfied: requests>=2.20 in /home/poeticfootsoldier/.local/lib/python3.9/site-packages (from openai) (2.28.2)\n",
      "Requirement already satisfied: certifi>=2017.4.17 in /home/poeticfootsoldier/.local/lib/python3.9/site-packages (from requests>=2.20->openai) (2022.12.7)\n",
      "Requirement already satisfied: urllib3<1.27,>=1.21.1 in /home/poeticfootsoldier/.local/lib/python3.9/site-packages (from requests>=2.20->openai) (1.26.14)\n",
      "Requirement already satisfied: idna<4,>=2.5 in /home/poeticfootsoldier/.local/lib/python3.9/site-packages (from requests>=2.20->openai) (3.4)\n",
      "Requirement already satisfied: charset-normalizer<4,>=2 in /home/poeticfootsoldier/.local/lib/python3.9/site-packages (from requests>=2.20->openai) (2.1.1)\n",
      "Requirement already satisfied: yarl<2.0,>=1.0 in /home/poeticfootsoldier/.local/lib/python3.9/site-packages (from aiohttp->openai) (1.8.2)\n",
      "Requirement already satisfied: aiosignal>=1.1.2 in /home/poeticfootsoldier/.local/lib/python3.9/site-packages (from aiohttp->openai) (1.3.1)\n",
      "Requirement already satisfied: frozenlist>=1.1.1 in /home/poeticfootsoldier/.local/lib/python3.9/site-packages (from aiohttp->openai) (1.3.3)\n",
      "Requirement already satisfied: multidict<7.0,>=4.5 in /home/poeticfootsoldier/.local/lib/python3.9/site-packages (from aiohttp->openai) (6.0.4)\n",
      "Requirement already satisfied: attrs>=17.3.0 in /home/poeticfootsoldier/.local/lib/python3.9/site-packages (from aiohttp->openai) (22.2.0)\n",
      "Requirement already satisfied: async-timeout<5.0,>=4.0.0a3 in /home/poeticfootsoldier/.local/lib/python3.9/site-packages (from aiohttp->openai) (4.0.2)\n"
     ]
    }
   ],
   "source": [
    "!pip install --upgrade openai"
   ]
  },
  {
   "cell_type": "code",
   "execution_count": 2,
   "metadata": {},
   "outputs": [
    {
     "name": "stdout",
     "output_type": "stream",
     "text": [
      "/bin/bash: line 1: openai: command not found\n"
     ]
    }
   ],
   "source": [
    "!openai tools fine_tunes.prepare_data -f train.jsonl -q"
   ]
  }
 ],
 "metadata": {
  "kernelspec": {
   "display_name": "Python 3",
   "language": "python",
   "name": "python3"
  },
  "language_info": {
   "codemirror_mode": {
    "name": "ipython",
    "version": 3
   },
   "file_extension": ".py",
   "mimetype": "text/x-python",
   "name": "python",
   "nbconvert_exporter": "python",
   "pygments_lexer": "ipython3",
   "version": "3.9.2"
  },
  "orig_nbformat": 4,
  "vscode": {
   "interpreter": {
    "hash": "916dbcbb3f70747c44a77c7bcd40155683ae19c65e1c03b4aa3499c5328201f1"
   }
  }
 },
 "nbformat": 4,
 "nbformat_minor": 2
}
