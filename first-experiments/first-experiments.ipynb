{
 "cells": [
  {
   "attachments": {},
   "cell_type": "markdown",
   "metadata": {},
   "source": [
    "## First thesis Experiments\n",
    "In this notbook, I seek to\n",
    "- explore the data set I've got\n",
    "- send some openAI request\n",
    "- run a small sample to get a performance estimate\n",
    "- vary parameters, models\n",
    "- run a large sample, potentially from cluster"
   ]
  },
  {
   "cell_type": "code",
   "execution_count": null,
   "metadata": {},
   "outputs": [],
   "source": [
    "!pip install openai\n",
    "!pip install pandas\n",
    "!pip install sklearn"
   ]
  },
  {
   "cell_type": "code",
   "execution_count": 1,
   "metadata": {},
   "outputs": [],
   "source": [
    "import pandas as pd\n",
    "import pickle as pkl\n",
    "import openai\n",
    "from sklearn.metrics import confusion_matrix\n",
    "import time\n",
    "\n",
    "# import large file\n",
    "with open('../ct_df_posts_single_preds.pkl', 'rb') as f:\n",
    "    pre_df = pkl.load(f)\n",
    "\n",
    "# shorten to not murder my computer\n",
    "# df = pre_df.iloc[:50]\n",
    "#del pre_df\n",
    "\n",
    "# retrieve API key\n",
    "import os\n",
    "api_key = os.environ.get('OPENAI_API_KEY')\n",
    "# print(api_key)"
   ]
  },
  {
   "cell_type": "code",
   "execution_count": 2,
   "metadata": {},
   "outputs": [],
   "source": [
    "# sample 50 ads, 50 non-ads\n",
    "df = pd.concat([pre_df[pre_df[\"is_ad\"]==True].sample(50),\n",
    "                pre_df[pre_df[\"is_ad\"]==False].sample(50)]).copy()\n",
    "df.reset_index(drop=True,inplace=True)\n",
    "del pre_df"
   ]
  },
  {
   "cell_type": "code",
   "execution_count": 22,
   "metadata": {},
   "outputs": [
    {
     "name": "stdout",
     "output_type": "stream",
     "text": [
      "Counter at 10\n",
      "Counter at 20\n",
      "Counter at 30\n",
      "Counter at 40\n",
      "Counter at 50\n",
      "Counter at 60\n",
      "Counter at 70\n",
      "Counter at 80\n",
      "Counter at 90\n",
      "Counter at 100\n"
     ]
    }
   ],
   "source": [
    "# Generate classifications for all samples\n",
    "\n",
    "completions = []\n",
    "i=0\n",
    "\n",
    "for txt in df.loc[:,\"caption\"]:\n",
    "    i+=1\n",
    "    if i%10==0: print(f\"Counter at {i}\")\n",
    "    \n",
    "    # timer to stay within my quota\n",
    "    if i==34: time.sleep(65)\n",
    "    if i==68: time.sleep(65)\n",
    "    \n",
    "    prompt = f\"Judge whether it is likely that the following caption comes from a post that has been sponsored. Try to aim for a 50:50 distribution between True and False.\\n\\n Post: 'aaaa meu look de hoje é da @cea_brasil ❤️ patrocinadora e dona do look oficial do Rock in Rio! Aproveitem pra acompanhar o perfil da C&A pra ver todos os lookinhos maravilhosos! Amo muito! ❤️'\\n Sponsored (True/False): True\\n\\n Post: 'side by side ~ sisters ❤️'\\n Sponsored (True/False): True\\n\\n Post:{txt}\\n Sponsored (True/False):\"\n",
    "\n",
    "    # Generate a response from openai.\n",
    "    # Flexibly choose ada/babbage/curie/davinci as engine. For davinci, use text-davinci-002.\n",
    "    response = openai.Completion.create(\n",
    "        engine=\"text-davinci-002\",\n",
    "        prompt=prompt,\n",
    "        max_tokens=5,\n",
    "        n=1,\n",
    "        stop=None,\n",
    "        temperature=0,\n",
    "    )\n",
    "\n",
    "    # Save the response text\n",
    "    completions.append(response[\"choices\"][0][\"text\"])"
   ]
  },
  {
   "cell_type": "code",
   "execution_count": 23,
   "metadata": {},
   "outputs": [
    {
     "data": {
      "text/plain": [
       "array([[48,  2],\n",
       "       [19, 31]])"
      ]
     },
     "execution_count": 23,
     "metadata": {},
     "output_type": "execute_result"
    }
   ],
   "source": [
    "# Make predictions to booleans\n",
    "completions_as_boolean = [True if response.__contains__(\"rue\") \n",
    "                          else False if response.__contains__(\"als\")\n",
    "                          else \"warning\" for response in completions]\n",
    "\n",
    "# check for bad completions\n",
    "if \"warning\" in vanilla_TF: print(\"Warning\")\n",
    "\n",
    "# obtain confusion matrix\n",
    "matrix = confusion_matrix(df[\"is_ad\"],completions_as_boolean)\n",
    "matrix"
   ]
  },
  {
   "cell_type": "code",
   "execution_count": 6,
   "metadata": {},
   "outputs": [],
   "source": [
    "# Example Request OpenAI API\n",
    "response = openai.Completion.create(\n",
    "    engine=\"text-davinci-002\",\n",
    "    prompt=\"Write a longer essay about what PBL is, how it is applied in different instiutions and discuss advantages and disadvanatages in detail\",\n",
    "    max_tokens=1050,\n",
    "    n=1,\n",
    "    stop=None,\n",
    "    temperature=1,\n",
    ")"
   ]
  }
 ],
 "metadata": {
  "kernelspec": {
   "display_name": "Python 3",
   "language": "python",
   "name": "python3"
  },
  "language_info": {
   "codemirror_mode": {
    "name": "ipython",
    "version": 3
   },
   "file_extension": ".py",
   "mimetype": "text/x-python",
   "name": "python",
   "nbconvert_exporter": "python",
   "pygments_lexer": "ipython3",
   "version": "3.9.2"
  },
  "orig_nbformat": 4,
  "vscode": {
   "interpreter": {
    "hash": "916dbcbb3f70747c44a77c7bcd40155683ae19c65e1c03b4aa3499c5328201f1"
   }
  }
 },
 "nbformat": 4,
 "nbformat_minor": 2
}
