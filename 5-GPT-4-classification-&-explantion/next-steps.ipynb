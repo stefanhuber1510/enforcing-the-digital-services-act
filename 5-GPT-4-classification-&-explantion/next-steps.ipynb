{
 "cells": [
  {
   "attachments": {},
   "cell_type": "markdown",
   "metadata": {},
   "source": [
    "In this notebook I illustrate some edge cases and motivate design choices"
   ]
  },
  {
   "cell_type": "code",
   "execution_count": 1,
   "metadata": {},
   "outputs": [],
   "source": [
    "import pickle as pkl\n",
    "import pandas as pd\n",
    "from sklearn.metrics import confusion_matrix"
   ]
  },
  {
   "cell_type": "code",
   "execution_count": 2,
   "metadata": {},
   "outputs": [
    {
     "name": "stdout",
     "output_type": "stream",
     "text": [
      "527 samples\n",
      "318 of which GPT-4 classified as promotional\n",
      "186 True labels from law students classified as promotional\n"
     ]
    }
   ],
   "source": [
    "with open('df_results.pkl', 'rb') as f:\n",
    "    df = pkl.load(f)\n",
    "    \n",
    "print(len(df),\"samples\")\n",
    "print(sum(df[\"GPT-4_attempt1\"]),\"of which GPT-4 classified as promotional\")\n",
    "print(sum(df[\"label\"]),\"True labels from law students classified as promotional\")"
   ]
  },
  {
   "cell_type": "code",
   "execution_count": 3,
   "metadata": {},
   "outputs": [
    {
     "name": "stdout",
     "output_type": "stream",
     "text": [
      "              precision    recall  f1-score   support\n",
      "\n",
      "       False       0.94      0.57      0.71       341\n",
      "        True       0.54      0.93      0.69       186\n",
      "\n",
      "    accuracy                           0.70       527\n",
      "   macro avg       0.74      0.75      0.70       527\n",
      "weighted avg       0.80      0.70      0.70       527\n",
      "\n"
     ]
    }
   ],
   "source": [
    "from sklearn.metrics import classification_report\n",
    "print(classification_report(df[\"label\"],df[\"GPT-4_attempt1\"]))"
   ]
  },
  {
   "attachments": {},
   "cell_type": "markdown",
   "metadata": {},
   "source": [
    "This shows the first central problem: "
   ]
  },
  {
   "cell_type": "code",
   "execution_count": null,
   "metadata": {},
   "outputs": [],
   "source": [
    "# central problem: preference for positive labels "
   ]
  },
  {
   "cell_type": "code",
   "execution_count": null,
   "metadata": {},
   "outputs": [],
   "source": [
    "confusion_matrix(results[\"label\"],results[\"GPT-4_attempt1\"])"
   ]
  },
  {
   "cell_type": "code",
   "execution_count": null,
   "metadata": {},
   "outputs": [],
   "source": [
    "import pandas as pd\n",
    "import pickle as pkl"
   ]
  },
  {
   "cell_type": "code",
   "execution_count": 3,
   "metadata": {},
   "outputs": [
    {
     "data": {
      "text/html": [
       "<div>\n",
       "<style scoped>\n",
       "    .dataframe tbody tr th:only-of-type {\n",
       "        vertical-align: middle;\n",
       "    }\n",
       "\n",
       "    .dataframe tbody tr th {\n",
       "        vertical-align: top;\n",
       "    }\n",
       "\n",
       "    .dataframe thead th {\n",
       "        text-align: right;\n",
       "    }\n",
       "</style>\n",
       "<table border=\"1\" class=\"dataframe\">\n",
       "  <thead>\n",
       "    <tr style=\"text-align: right;\">\n",
       "      <th></th>\n",
       "      <th>label</th>\n",
       "      <th>caption</th>\n",
       "    </tr>\n",
       "  </thead>\n",
       "  <tbody>\n",
       "    <tr>\n",
       "      <th>0</th>\n",
       "      <td>False</td>\n",
       "      <td>I can’t believe it’s May. For me, that usually...</td>\n",
       "    </tr>\n",
       "    <tr>\n",
       "      <th>1</th>\n",
       "      <td>True</td>\n",
       "      <td>WeWoreWhat Swim Spring 20 Collection • HOME • ...</td>\n",
       "    </tr>\n",
       "    <tr>\n",
       "      <th>2</th>\n",
       "      <td>True</td>\n",
       "      <td>LINEN IS BACK BABY, I’ve been waiting for Reso...</td>\n",
       "    </tr>\n",
       "    <tr>\n",
       "      <th>3</th>\n",
       "      <td>False</td>\n",
       "      <td>Heading to Sicily to shoot my Italy @weworewha...</td>\n",
       "    </tr>\n",
       "    <tr>\n",
       "      <th>4</th>\n",
       "      <td>False</td>\n",
       "      <td>Wearing white as a brunette is so much better ...</td>\n",
       "    </tr>\n",
       "    <tr>\n",
       "      <th>5</th>\n",
       "      <td>True</td>\n",
       "      <td>Of course @fwrd x @rtabrand throw a party at a...</td>\n",
       "    </tr>\n",
       "    <tr>\n",
       "      <th>6</th>\n",
       "      <td>True</td>\n",
       "      <td>Today on WWW • getting ready for Fall with @7f...</td>\n",
       "    </tr>\n",
       "    <tr>\n",
       "      <th>7</th>\n",
       "      <td>False</td>\n",
       "      <td>been loving no eye makeup and a nude lip • wea...</td>\n",
       "    </tr>\n",
       "  </tbody>\n",
       "</table>\n",
       "</div>"
      ],
      "text/plain": [
       "   label                                            caption\n",
       "0  False  I can’t believe it’s May. For me, that usually...\n",
       "1   True  WeWoreWhat Swim Spring 20 Collection • HOME • ...\n",
       "2   True  LINEN IS BACK BABY, I’ve been waiting for Reso...\n",
       "3  False  Heading to Sicily to shoot my Italy @weworewha...\n",
       "4  False  Wearing white as a brunette is so much better ...\n",
       "5   True  Of course @fwrd x @rtabrand throw a party at a...\n",
       "6   True  Today on WWW • getting ready for Fall with @7f...\n",
       "7  False  been loving no eye makeup and a nude lip • wea..."
      ]
     },
     "execution_count": 3,
     "metadata": {},
     "output_type": "execute_result"
    }
   ],
   "source": [
    "with open('../2-annotated-dataset-experiments/results.pkl', 'rb') as f:\n",
    "    df = pkl.load(f)\n",
    "\n",
    "df = df[df[\"has_disclosures\"]==False].reset_index(drop=True)\n",
    "\n",
    "\n",
    "df[df[\"username\"]==\"weworewhat\"][[\"label\",\"caption\"]]"
   ]
  },
  {
   "attachments": {},
   "cell_type": "markdown",
   "metadata": {},
   "source": [
    "- These posts are all from the account weworewhat, a fashion company owned by a single model who seels bikinis etc.\n",
    "- All of them showcase the products the company sells, none of them has disclosures. 4 are labelled as ads, 4 are not.\n",
    "- After a discussion with Thales, we decided to consider them ads - because the model acts as a single influencer, and sells products"
   ]
  },
  {
   "cell_type": "code",
   "execution_count": 8,
   "metadata": {},
   "outputs": [],
   "source": []
  },
  {
   "cell_type": "code",
   "execution_count": 10,
   "metadata": {},
   "outputs": [
    {
     "data": {
      "text/plain": [
       "array([[196, 145],\n",
       "       [ 13, 173]])"
      ]
     },
     "execution_count": 10,
     "metadata": {},
     "output_type": "execute_result"
    }
   ],
   "source": []
  },
  {
   "cell_type": "code",
   "execution_count": null,
   "metadata": {},
   "outputs": [],
   "source": []
  },
  {
   "attachments": {},
   "cell_type": "markdown",
   "metadata": {},
   "source": [
    "### next tasks\n",
    "- create file on mismatches soon\n",
    "- send sources that explain T-test/CIs and how to sample properly\n",
    "- file: tomorrow\n",
    "\n",
    "### plans for the paper:\n",
    "we need a good sampling strategy:\n",
    "- represented should be time years, (accounts)\n",
    "- create e.g. 10 samples a 5000 -- look up good sample numbers & sizes\n",
    "- evaluate model performance on 95% CI\n",
    "\n",
    "### labelling\n",
    "- Get labels from chatGPT\n",
    "- label manually (more than just the law student things)\n",
    "- validate against chatGPT classifications & and look at explanations"
   ]
  },
  {
   "cell_type": "code",
   "execution_count": 7,
   "metadata": {},
   "outputs": [],
   "source": [
    "# look at cases where chatGPT is clearly wrong\n",
    "# everything else: tuesday at 2pm\n",
    "# for explanations: Also return which tokens where important (check from API)\n",
    "# chatGPT prompts: Give the examples as model responses"
   ]
  },
  {
   "cell_type": "code",
   "execution_count": null,
   "metadata": {},
   "outputs": [],
   "source": []
  }
 ],
 "metadata": {
  "kernelspec": {
   "display_name": "thesis-venv",
   "language": "python",
   "name": "python3"
  },
  "language_info": {
   "codemirror_mode": {
    "name": "ipython",
    "version": 3
   },
   "file_extension": ".py",
   "mimetype": "text/x-python",
   "name": "python",
   "nbconvert_exporter": "python",
   "pygments_lexer": "ipython3",
   "version": "3.9.2"
  },
  "orig_nbformat": 4
 },
 "nbformat": 4,
 "nbformat_minor": 2
}
