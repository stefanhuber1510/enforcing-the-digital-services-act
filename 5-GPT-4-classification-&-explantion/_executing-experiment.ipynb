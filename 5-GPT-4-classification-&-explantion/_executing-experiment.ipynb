{
 "cells": [
  {
   "attachments": {},
   "cell_type": "markdown",
   "metadata": {},
   "source": [
    "#### In this file I classify the law-students labelled data using GPT-4\n",
    "There are 5 code blocks:\n",
    "1. imports\n",
    "2. load data\n",
    "3. load prompt\n",
    "4. run GPT-4\n",
    "5. Evaluate confusion matrix\n",
    "6. save results"
   ]
  },
  {
   "cell_type": "code",
   "execution_count": 1,
   "metadata": {},
   "outputs": [],
   "source": [
    "# imports\n",
    "import pandas as pd\n",
    "import pickle as pkl\n",
    "import openai\n",
    "\n",
    "from sklearn.metrics import confusion_matrix\n",
    "from GPTclassifier import gptclassifier\n",
    "\n",
    "openai.api_key = \"\" # insert your api key"
   ]
  },
  {
   "cell_type": "code",
   "execution_count": 6,
   "metadata": {},
   "outputs": [],
   "source": [
    "# data\n",
    "with open('../2-annotated-dataset-experiments/results.pkl', 'rb') as f:\n",
    "    df = pkl.load(f)\n",
    "\n",
    "# remove disclosures\n",
    "df.drop(columns=[\"index\"], inplace=True)\n",
    "df = df[df[\"has_disclosures\"]==False].reset_index(drop=True)"
   ]
  },
  {
   "cell_type": "code",
   "execution_count": 4,
   "metadata": {},
   "outputs": [],
   "source": [
    "# load prompt\n",
    "with open('./texts/system_message.txt', 'r') as file1:\n",
    "    system_message = file1.read()\n",
    "with open('./texts/template.txt', 'r') as file2:\n",
    "    template = file2.read()\n",
    "with open('./texts/examples.pkl', 'rb') as file3:\n",
    "    examples = pkl.load(file3)\n",
    "completions = []"
   ]
  },
  {
   "cell_type": "code",
   "execution_count": 5,
   "metadata": {},
   "outputs": [
    {
     "name": "stdout",
     "output_type": "stream",
     "text": [
      "Counter at 5\n",
      "Counter at 55\n",
      "Counter at 105\n",
      "Counter at 155\n",
      "Counter at 205\n",
      "Counter at 255\n",
      "Counter at 305\n",
      "Counter at 355\n",
      "Counter at 405\n",
      "Counter at 455\n",
      "Waiting for 65s RateLimitError\n",
      "Counter at 505\n"
     ]
    }
   ],
   "source": [
    "# execute classification\n",
    "results = gptclassifier(df,system_message, template, examples, completions, timer_frequency=50)"
   ]
  },
  {
   "cell_type": "code",
   "execution_count": 1,
   "metadata": {},
   "outputs": [
    {
     "data": {
      "text/plain": [
       "array([[196, 145],\n",
       "       [ 13, 173]])"
      ]
     },
     "execution_count": 1,
     "metadata": {},
     "output_type": "execute_result"
    }
   ],
   "source": [
    "confusion_matrix(df[\"label\"],results[1])"
   ]
  },
  {
   "cell_type": "code",
   "execution_count": null,
   "metadata": {},
   "outputs": [],
   "source": [
    "# save results\n",
    "df[\"GPT-4_attempt1\"] = results[1]\n",
    "df[\"GPT-4_unclear_label\"] = results[2]\n",
    "df[\"GPT-4_explanations\"] = results[0]\n",
    "df.drop(columns=[\"baseline\"],inplace=True)\n",
    "\n",
    "with open('results.pkl', 'wb') as file:\n",
    "    pkl.dump(df, file)"
   ]
  }
 ],
 "metadata": {
  "kernelspec": {
   "display_name": "Python 3",
   "language": "python",
   "name": "python3"
  },
  "language_info": {
   "codemirror_mode": {
    "name": "ipython",
    "version": 3
   },
   "file_extension": ".py",
   "mimetype": "text/x-python",
   "name": "python",
   "nbconvert_exporter": "python",
   "pygments_lexer": "ipython3",
   "version": "3.9.2"
  }
 },
 "nbformat": 4,
 "nbformat_minor": 4
}
